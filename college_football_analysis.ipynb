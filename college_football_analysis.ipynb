{
 "cells": [
  {
   "cell_type": "markdown",
   "id": "5c9dd6a7",
   "metadata": {},
   "source": [
    "# College Football Analysis\n",
    "## By David Weck"
   ]
  },
  {
   "cell_type": "markdown",
   "id": "0b1ed917",
   "metadata": {},
   "source": [
    "In this project, I will be analyzing years of college football data. The goal is to derive informative insights, present elegant visualizations, and eventually predict various betting metrics such as over/under, spread, and winning team"
   ]
  },
  {
   "cell_type": "markdown",
   "id": "e02a2e0f",
   "metadata": {},
   "source": [
    "#### Setup and Package Import"
   ]
  },
  {
   "cell_type": "code",
   "execution_count": 18,
   "id": "acddbfc6",
   "metadata": {},
   "outputs": [],
   "source": [
    "import cfbd\n",
    "import numpy as np\n",
    "import pandas as pd\n",
    "import matplotlib.pyplot as plt\n",
    "import seaborn as sns\n",
    "import os\n",
    "\n",
    "cwd = os.getcwd()\n",
    "data_path = cwd + \"\\\\Data\\\\college_football_analysis\\\\\""
   ]
  },
  {
   "cell_type": "markdown",
   "id": "a953558f",
   "metadata": {},
   "source": [
    "#### Loading Data"
   ]
  },
  {
   "cell_type": "markdown",
   "id": "4cc160db",
   "metadata": {},
   "source": [
    "All of this data was sourced using the cfbd Python API. This API pulls from [collegefootballdata.com](https://collegefootballdata.com/exporter). Details on the API can be found [here](https://github.com/CFBD/cfbd-python). To see how I created the datasets below, please view `data_pull.py` on the [github repo](https://github.com/davidweck96/College-Football-Analysis) for this project."
   ]
  },
  {
   "cell_type": "code",
   "execution_count": 22,
   "id": "ced7d99c",
   "metadata": {},
   "outputs": [],
   "source": [
    "adv_stats_df = pd.read_csv(data_path + 'adv_stats_df.csv')\n",
    "betting_df = pd.read_csv(data_path + 'betting_df.csv')\n",
    "game_results_df = pd.read_csv(data_path + 'game_results_df.csv')\n",
    "recruiting_df = pd.read_csv(data_path + 'recruiting_df.csv')\n",
    "talent_df = pd.read_csv(data_path + 'talent_df.csv')\n",
    "teams_df = pd.read_csv(data_path + 'teams.csv')\n",
    "win_prob_df = pd.read_csv(data_path + 'win_prob_df.csv')"
   ]
  },
  {
   "cell_type": "markdown",
   "id": "488feec8",
   "metadata": {},
   "source": [
    "#### Exploring Data"
   ]
  },
  {
   "cell_type": "code",
   "execution_count": null,
   "id": "aa8da771",
   "metadata": {},
   "outputs": [],
   "source": []
  }
 ],
 "metadata": {
  "kernelspec": {
   "display_name": "Python 3 (ipykernel)",
   "language": "python",
   "name": "python3"
  },
  "language_info": {
   "codemirror_mode": {
    "name": "ipython",
    "version": 3
   },
   "file_extension": ".py",
   "mimetype": "text/x-python",
   "name": "python",
   "nbconvert_exporter": "python",
   "pygments_lexer": "ipython3",
   "version": "3.9.7"
  }
 },
 "nbformat": 4,
 "nbformat_minor": 5
}
